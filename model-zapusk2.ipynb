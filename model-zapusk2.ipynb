{
 "cells": [
  {
   "cell_type": "code",
   "execution_count": 1,
   "metadata": {
    "_cell_guid": "a6e42042-958e-4f05-bd09-9a89a3967a6d",
    "_uuid": "6acd974e-3516-4a6a-9e0b-0f5b979e69fa",
    "collapsed": false,
    "jupyter": {
     "outputs_hidden": false
    }
   },
   "outputs": [],
   "source": [
    "import dill\n",
    "import pandas as pd\n",
    "\n",
    "data = pd.read_csv('df.csv')\n",
    "target = pd.read_csv(\"data/train_target.csv\")\n",
    "y = target['flag']"
   ]
  },
  {
   "cell_type": "code",
   "execution_count": 2,
   "metadata": {},
   "outputs": [
    {
     "name": "stdout",
     "output_type": "stream",
     "text": [
      "start enc\n",
      "stop enc\n",
      "merged\n",
      "filled\n"
     ]
    }
   ],
   "source": [
    "with open('risk_of_defualt.pkl', 'rb') as input_file:\n",
    "    model = dill.load(input_file)\n",
    "\n",
    "from sklearn.metrics import roc_auc_score\n",
    "data = data.drop(['flag'], axis=1)\n",
    "# data_pred = model['model'].predict(data)\n",
    "target['predict'] = model['model'].predict(data)\n",
    "predictions = target.drop(['flag'], axis=1)"
   ]
  },
  {
   "cell_type": "code",
   "execution_count": 7,
   "metadata": {},
   "outputs": [
    {
     "data": {
      "text/plain": [
       "(3000000, 2)"
      ]
     },
     "execution_count": 7,
     "metadata": {},
     "output_type": "execute_result"
    }
   ],
   "source": [
    "predictions.shape\n"
   ]
  },
  {
   "cell_type": "code",
   "execution_count": 8,
   "metadata": {},
   "outputs": [],
   "source": [
    "predictions.to_csv('predictions.csv',index = False)"
   ]
  },
  {
   "cell_type": "code",
   "execution_count": 4,
   "metadata": {},
   "outputs": [],
   "source": [
    "# target['predict'] = model['model'].predict(data)\n",
    "# predictions = target.drop(['flag'], axis=1)\n",
    "\n",
    "# predictions.head()\n",
    "# # data_preds_proba = model['model'].predict_proba(data)\n"
   ]
  },
  {
   "cell_type": "code",
   "execution_count": 5,
   "metadata": {},
   "outputs": [],
   "source": [
    "# score = roc_auc_score(y, data_preds_proba[:, 1])\n",
    "# print(score)"
   ]
  }
 ],
 "metadata": {
  "kaggle": {
   "accelerator": "none",
   "dataSources": [
    {
     "datasetId": 5914647,
     "sourceId": 9707262,
     "sourceType": "datasetVersion"
    }
   ],
   "dockerImageVersionId": 30786,
   "isGpuEnabled": false,
   "isInternetEnabled": true,
   "language": "python",
   "sourceType": "notebook"
  },
  "kernelspec": {
   "display_name": "Python 3 (ipykernel)",
   "language": "python",
   "name": "python3"
  },
  "language_info": {
   "codemirror_mode": {
    "name": "ipython",
    "version": 3
   },
   "file_extension": ".py",
   "mimetype": "text/x-python",
   "name": "python",
   "nbconvert_exporter": "python",
   "pygments_lexer": "ipython3",
   "version": "3.11.7"
  }
 },
 "nbformat": 4,
 "nbformat_minor": 4
}
